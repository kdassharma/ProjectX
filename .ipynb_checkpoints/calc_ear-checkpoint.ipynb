{
 "cells": [
  {
   "cell_type": "code",
   "execution_count": 1,
   "metadata": {},
   "outputs": [
    {
     "ename": "ModuleNotFoundError",
     "evalue": "No module named 'dlib'",
     "output_type": "error",
     "traceback": [
      "\u001b[1;31m---------------------------------------------------------------------------\u001b[0m",
      "\u001b[1;31mModuleNotFoundError\u001b[0m                       Traceback (most recent call last)",
      "\u001b[1;32m<ipython-input-1-16b13105992c>\u001b[0m in \u001b[0;36m<module>\u001b[1;34m\u001b[0m\n\u001b[0;32m      1\u001b[0m \u001b[1;32mfrom\u001b[0m \u001b[0mscipy\u001b[0m\u001b[1;33m.\u001b[0m\u001b[0mspatial\u001b[0m \u001b[1;32mimport\u001b[0m \u001b[0mdistance\u001b[0m \u001b[1;32mas\u001b[0m \u001b[0mdist\u001b[0m\u001b[1;33m\u001b[0m\u001b[1;33m\u001b[0m\u001b[0m\n\u001b[1;32m----> 2\u001b[1;33m \u001b[1;32mimport\u001b[0m \u001b[0mdlib\u001b[0m\u001b[1;33m\u001b[0m\u001b[1;33m\u001b[0m\u001b[0m\n\u001b[0m\u001b[0;32m      3\u001b[0m \u001b[1;32mimport\u001b[0m \u001b[0mcv2\u001b[0m\u001b[1;33m\u001b[0m\u001b[1;33m\u001b[0m\u001b[0m\n",
      "\u001b[1;31mModuleNotFoundError\u001b[0m: No module named 'dlib'"
     ]
    }
   ],
   "source": [
    "from scipy.spatial import distance as dist\n",
    "import dlib\n",
    "import cv2"
   ]
  },
  {
   "cell_type": "code",
   "execution_count": 4,
   "metadata": {
    "scrolled": true
   },
   "outputs": [
    {
     "name": "stdout",
     "output_type": "stream",
     "text": [
      "Collecting dlib\n",
      "  Using cached https://files.pythonhosted.org/packages/a4/7b/2f7f29f460629a8143b2deea1911e2fb1d9d88d29bf645ba321461588e88/dlib-19.21.0.tar.gz\n",
      "Installing collected packages: dlib\n",
      "  Running setup.py install for dlib: started\n",
      "    Running setup.py install for dlib: finished with status 'error'\n",
      "Note: you may need to restart the kernel to use updated packages.\n"
     ]
    },
    {
     "name": "stderr",
     "output_type": "stream",
     "text": [
      "    ERROR: Command errored out with exit status 1:\n",
      "     command: 'c:\\users\\rahul\\appdata\\local\\programs\\python\\python38-32\\python.exe' -u -c 'import sys, setuptools, tokenize; sys.argv[0] = '\"'\"'C:\\\\Users\\\\Rahul\\\\AppData\\\\Local\\\\Temp\\\\pip-install-mtbh2day\\\\dlib\\\\setup.py'\"'\"'; __file__='\"'\"'C:\\\\Users\\\\Rahul\\\\AppData\\\\Local\\\\Temp\\\\pip-install-mtbh2day\\\\dlib\\\\setup.py'\"'\"';f=getattr(tokenize, '\"'\"'open'\"'\"', open)(__file__);code=f.read().replace('\"'\"'\\r\\n'\"'\"', '\"'\"'\\n'\"'\"');f.close();exec(compile(code, __file__, '\"'\"'exec'\"'\"'))' install --record 'C:\\Users\\Rahul\\AppData\\Local\\Temp\\pip-record-rxj0952j\\install-record.txt' --single-version-externally-managed --compile\n",
      "         cwd: C:\\Users\\Rahul\\AppData\\Local\\Temp\\pip-install-mtbh2day\\dlib\\\n",
      "    Complete output (60 lines):\n",
      "    running install\n",
      "    running build\n",
      "    running build_py\n",
      "    package init file 'tools\\python\\dlib\\__init__.py' not found (or not a regular file)\n",
      "    running build_ext\n",
      "    Building extension for Python 3.8.3 (tags/v3.8.3:6f8c832, May 13 2020, 22:20:19) [MSC v.1925 32 bit (Intel)]\n",
      "    Invoking CMake setup: 'cmake C:\\Users\\Rahul\\AppData\\Local\\Temp\\pip-install-mtbh2day\\dlib\\tools\\python -DCMAKE_LIBRARY_OUTPUT_DIRECTORY=C:\\Users\\Rahul\\AppData\\Local\\Temp\\pip-install-mtbh2day\\dlib\\build\\lib.win32-3.8 -DPYTHON_EXECUTABLE=c:\\users\\rahul\\appdata\\local\\programs\\python\\python38-32\\python.exe -DCMAKE_LIBRARY_OUTPUT_DIRECTORY_RELEASE=C:\\Users\\Rahul\\AppData\\Local\\Temp\\pip-install-mtbh2day\\dlib\\build\\lib.win32-3.8'\n",
      "    -- Building for: NMake Makefiles\n",
      "    CMake Error at CMakeLists.txt:5 (message):\n",
      "    \n",
      "    \n",
      "    \n",
      "      !!!!!!!!!!!!!!!!!!!!!!!!!!!!!!!!!!!!!!!!!!!!!!!!!!!!!!!!!!!!!!!!!!!!!!!!!!!!!!!\n",
      "    \n",
      "    \n",
      "      You must use Visual Studio to build a python extension on windows.  If you\n",
      "      are getting this error it means you have not installed Visual C++.  Note\n",
      "      that there are many flavors of Visual Studio, like Visual Studio for C#\n",
      "      development.  You need to install Visual Studio for C++.\n",
      "    \n",
      "    \n",
      "      !!!!!!!!!!!!!!!!!!!!!!!!!!!!!!!!!!!!!!!!!!!!!!!!!!!!!!!!!!!!!!!!!!!!!!!!!!!!!!!\n",
      "    \n",
      "    \n",
      "    \n",
      "    \n",
      "    -- Configuring incomplete, errors occurred!\n",
      "    Traceback (most recent call last):\n",
      "      File \"<string>\", line 1, in <module>\n",
      "      File \"C:\\Users\\Rahul\\AppData\\Local\\Temp\\pip-install-mtbh2day\\dlib\\setup.py\", line 223, in <module>\n",
      "        setup(\n",
      "      File \"c:\\users\\rahul\\appdata\\local\\programs\\python\\python38-32\\lib\\site-packages\\setuptools\\__init__.py\", line 145, in setup\n",
      "        return distutils.core.setup(**attrs)\n",
      "      File \"c:\\users\\rahul\\appdata\\local\\programs\\python\\python38-32\\lib\\distutils\\core.py\", line 148, in setup\n",
      "        dist.run_commands()\n",
      "      File \"c:\\users\\rahul\\appdata\\local\\programs\\python\\python38-32\\lib\\distutils\\dist.py\", line 966, in run_commands\n",
      "        self.run_command(cmd)\n",
      "      File \"c:\\users\\rahul\\appdata\\local\\programs\\python\\python38-32\\lib\\distutils\\dist.py\", line 985, in run_command\n",
      "        cmd_obj.run()\n",
      "      File \"c:\\users\\rahul\\appdata\\local\\programs\\python\\python38-32\\lib\\site-packages\\setuptools\\command\\install.py\", line 61, in run\n",
      "        return orig.install.run(self)\n",
      "      File \"c:\\users\\rahul\\appdata\\local\\programs\\python\\python38-32\\lib\\distutils\\command\\install.py\", line 545, in run\n",
      "        self.run_command('build')\n",
      "      File \"c:\\users\\rahul\\appdata\\local\\programs\\python\\python38-32\\lib\\distutils\\cmd.py\", line 313, in run_command\n",
      "        self.distribution.run_command(command)\n",
      "      File \"c:\\users\\rahul\\appdata\\local\\programs\\python\\python38-32\\lib\\distutils\\dist.py\", line 985, in run_command\n",
      "        cmd_obj.run()\n",
      "      File \"c:\\users\\rahul\\appdata\\local\\programs\\python\\python38-32\\lib\\distutils\\command\\build.py\", line 135, in run\n",
      "        self.run_command(cmd_name)\n",
      "      File \"c:\\users\\rahul\\appdata\\local\\programs\\python\\python38-32\\lib\\distutils\\cmd.py\", line 313, in run_command\n",
      "        self.distribution.run_command(command)\n",
      "      File \"c:\\users\\rahul\\appdata\\local\\programs\\python\\python38-32\\lib\\distutils\\dist.py\", line 985, in run_command\n",
      "        cmd_obj.run()\n",
      "      File \"C:\\Users\\Rahul\\AppData\\Local\\Temp\\pip-install-mtbh2day\\dlib\\setup.py\", line 135, in run\n",
      "        self.build_extension(ext)\n",
      "      File \"C:\\Users\\Rahul\\AppData\\Local\\Temp\\pip-install-mtbh2day\\dlib\\setup.py\", line 172, in build_extension\n",
      "        subprocess.check_call(cmake_setup, cwd=build_folder)\n",
      "      File \"c:\\users\\rahul\\appdata\\local\\programs\\python\\python38-32\\lib\\subprocess.py\", line 364, in check_call\n",
      "        raise CalledProcessError(retcode, cmd)\n",
      "    subprocess.CalledProcessError: Command '['cmake', 'C:\\\\Users\\\\Rahul\\\\AppData\\\\Local\\\\Temp\\\\pip-install-mtbh2day\\\\dlib\\\\tools\\\\python', '-DCMAKE_LIBRARY_OUTPUT_DIRECTORY=C:\\\\Users\\\\Rahul\\\\AppData\\\\Local\\\\Temp\\\\pip-install-mtbh2day\\\\dlib\\\\build\\\\lib.win32-3.8', '-DPYTHON_EXECUTABLE=c:\\\\users\\\\rahul\\\\appdata\\\\local\\\\programs\\\\python\\\\python38-32\\\\python.exe', '-DCMAKE_LIBRARY_OUTPUT_DIRECTORY_RELEASE=C:\\\\Users\\\\Rahul\\\\AppData\\\\Local\\\\Temp\\\\pip-install-mtbh2day\\\\dlib\\\\build\\\\lib.win32-3.8']' returned non-zero exit status 1.\n",
      "    ----------------------------------------\n",
      "ERROR: Command errored out with exit status 1: 'c:\\users\\rahul\\appdata\\local\\programs\\python\\python38-32\\python.exe' -u -c 'import sys, setuptools, tokenize; sys.argv[0] = '\"'\"'C:\\\\Users\\\\Rahul\\\\AppData\\\\Local\\\\Temp\\\\pip-install-mtbh2day\\\\dlib\\\\setup.py'\"'\"'; __file__='\"'\"'C:\\\\Users\\\\Rahul\\\\AppData\\\\Local\\\\Temp\\\\pip-install-mtbh2day\\\\dlib\\\\setup.py'\"'\"';f=getattr(tokenize, '\"'\"'open'\"'\"', open)(__file__);code=f.read().replace('\"'\"'\\r\\n'\"'\"', '\"'\"'\\n'\"'\"');f.close();exec(compile(code, __file__, '\"'\"'exec'\"'\"'))' install --record 'C:\\Users\\Rahul\\AppData\\Local\\Temp\\pip-record-rxj0952j\\install-record.txt' --single-version-externally-managed --compile Check the logs for full command output.\n",
      "WARNING: You are using pip version 19.2.3, however version 20.2.2 is available.\n",
      "You should consider upgrading via the 'python -m pip install --upgrade pip' command.\n"
     ]
    }
   ],
   "source": [
    "pip install dlib"
   ]
  },
  {
   "cell_type": "code",
   "execution_count": null,
   "metadata": {},
   "outputs": [],
   "source": [
    "def eye_aspect_ratio(eye):\n",
    "    # compute the euclidean distances between the two sets of\n",
    "    # vertical eye landmarks (x, y)-coordinates\n",
    "    A = dist.euclidean(eye[1], eye[5])\n",
    "    B = dist.euclidean(eye[2], eye[4])\n",
    "\n",
    "    # compute the euclidean distance between the horizontal\n",
    "    # eye landmark (x, y)-coordinates\n",
    "    C = dist.euclidean(eye[0], eye[3])\n",
    "\n",
    "    # compute the eye aspect ratio\n",
    "    ear = (A + B) / (2.0 * C)\n",
    "\n",
    "    # return the eye aspect ratio\n",
    "    return ear"
   ]
  },
  {
   "cell_type": "code",
   "execution_count": null,
   "metadata": {},
   "outputs": [],
   "source": [
    "cap = cv2.VideoCapture(video_path)\n",
    "success = cap.grab() # get the next frame\n",
    "\n",
    "fno = 0\n",
    "ears = []\n",
    "\n",
    "while success:\n",
    "    if fno % sample_rate == 0:\n",
    "        _, img = cap.retrieve()\n",
    "        do_something(img)\n",
    "    # read next frame\n",
    "    success, img = cap.grab()\n",
    "\n",
    "    frame = imutils.resize(img, width=450)\n",
    "    gray = cv2.cvtColor(frame, cv2.COLOR_BGR2GRAY)\n",
    "\n",
    "    # detect faces in the grayscale frame\n",
    "    rects = detector(gray, 0)\n",
    "\n",
    "    # loop over the face detections\n",
    "    for rect in rects:\n",
    "        # determine the facial landmarks for the face region, then\n",
    "        # convert the facial landmark (x, y)-coordinates to a NumPy\n",
    "        # array\n",
    "        shape = predictor(gray, rect)\n",
    "        shape = face_utils.shape_to_np(shape)\n",
    "\n",
    "        # extract the left and right eye coordinates, then use the\n",
    "        # coordinates to compute the eye aspect ratio for both eyes\n",
    "        leftEye = shape[lStart:lEnd]\n",
    "        rightEye = shape[rStart:rEnd]\n",
    "        leftEAR = eye_aspect_ratio(leftEye)\n",
    "        rightEAR = eye_aspect_ratio(rightEye)\n",
    "\n",
    "        # average the eye aspect ratio together for both eyes\n",
    "        ear = (leftEAR + rightEAR) / 2.0\n",
    "        ears.append(ear)"
   ]
  }
 ],
 "metadata": {
  "kernelspec": {
   "display_name": "Python 3",
   "language": "python",
   "name": "python3"
  },
  "language_info": {
   "codemirror_mode": {
    "name": "ipython",
    "version": 3
   },
   "file_extension": ".py",
   "mimetype": "text/x-python",
   "name": "python",
   "nbconvert_exporter": "python",
   "pygments_lexer": "ipython3",
   "version": "3.8.3"
  }
 },
 "nbformat": 4,
 "nbformat_minor": 4
}
